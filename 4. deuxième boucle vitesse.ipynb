{
 "cells": [
  {
   "cell_type": "markdown",
   "metadata": {},
   "source": [
    "# DEUXIEME BOUCLE FOR ET VECTEURS VITESSE"
   ]
  },
  {
   "cell_type": "markdown",
   "metadata": {},
   "source": [
    "L’étude de la chronophotographie de la chute d’une bille est complétée par le tracé des vecteurs vitesse au cours du temps. \n",
    "\n",
    "**Capacité numérique** : représenter des vecteurs vitesse d’un système modélisé par un point lors d’un mouvement à l’aide d’un langage de programmation."
   ]
  },
  {
   "cell_type": "markdown",
   "metadata": {},
   "source": [
    "## Représentation des vecteurs vitesse"
   ]
  },
  {
   "cell_type": "markdown",
   "metadata": {},
   "source": [
    "Comme précédemment, la boucle `for` permet de faire défiler les positions successives (valeurs de la liste yreelle) et le tracé des vecteurs s’effectue avec la fonction `plt.arrow` qui a pour arguments successifs: \n",
    "* abscisse de départ de la flèche : ici, 0\n",
    "* ordonnée de départ de la flèche : ici, yreelle[i], c’est-à-dire le ième élément de la liste des yreelle\n",
    "* longueur horizontale de la flèche, ici 0 \n",
    "* longueur verticale de la flèche : ici, (yreelle[i+1]- yreelle[i])/(t[i+1]-t[i]), c’est-à-dire la vitesse verticale lors du ième pas (on assimile ici la vitesse en i au déplacement entre i et i+1 rapporté à l’intervalle de temps, assimilation qui n’est pas la plus précise)\n"
   ]
  },
  {
   "cell_type": "code",
   "execution_count": 4,
   "metadata": {},
   "outputs": [
    {
     "data": {
      "text/plain": [
       "(-5, 0)"
      ]
     },
     "execution_count": 4,
     "metadata": {},
     "output_type": "execute_result"
    },
    {
     "data": {
      "image/png": "[encoded data removed]",
      "text/plain": [
       "<Figure size 432x288 with 1 Axes>"
      ]
     },
     "metadata": {
      "needs_background": "light"
     },
     "output_type": "display_data"
    }
   ],
   "source": [
    "import numpy as np\n",
    "import matplotlib.pyplot as plt\n",
    "\n",
    "ymes=np.array([-0,-0.7,-1.5,-2.3,-3.5,-4.5,-5.9,-7.7,-8.8,-10.6,-12.3,-14.2,-16.4,-18.5,-21,-23.5])\n",
    "yreelle=ymes*2/100\n",
    "t=np.linspace(0,1/4,16)\n",
    "n=np.arange(len(t)-1)\n",
    "x=0*t\n",
    "for i in n :\n",
    "    plt.arrow(0,yreelle[i],0,(yreelle[i+1]-yreelle[i])/(t[i+1]-t[i]),head_width=0.002)\n",
    "plt.xlim(-0.02,0.02)\n",
    "plt.ylim(-5,0)"
   ]
  },
  {
   "cell_type": "markdown",
   "metadata": {},
   "source": [
    "**Conclusion** : le rendu est difficilement exploitable et peu lisible. Il est temps de tester ces protocoles sur une trajectoire bidimensionnelle, ce qui permettra de définir façon plus acceptable la vitesse."
   ]
  }
 ],
 "metadata": {
  "kernelspec": {
   "display_name": "Python 3",
   "language": "python",
   "name": "python3"
  },
  "language_info": {
   "codemirror_mode": {
    "name": "ipython",
    "version": 3
   },
   "file_extension": ".py",
   "mimetype": "text/x-python",
   "name": "python",
   "nbconvert_exporter": "python",
   "pygments_lexer": "ipython3",
   "version": "3.5.3"
  }
 },
 "nbformat": 4,
 "nbformat_minor": 2
}
